{
 "cells": [
  {
   "cell_type": "markdown",
   "metadata": {},
   "source": [
    "# Reframing Design Pattern\n",
    "\n",
    "The *Reframing design pattern* refers to changing the representation of the output of a machine learning problem. For example, we could take something that is intuitively a regression problem and instead pose it as a classification problem (and vice versa).\n",
    "\n",
    "\n",
    "Note: For the code that has been provided to  you, try to understand what each line does, especially the part where the code is making inputs for the TensorFlow (TF) model. The TF part of the program can be a little nitty gritty, which is why we have provided it to  you.\n",
    "\n",
    "In this tutorial, we will look at the natality dataset from Google Cloud Public Datasets. It is a set of free, publically available data hosted in BigQuery. Notice that for a given set of inputs, the weight_pounds (the label) can take many different values. "
   ]
  },
  {
   "cell_type": "markdown",
   "metadata": {},
   "source": [
    "Let's look at the natality dataset. Notice that for a given set of inputs, the weight_pounds (the label) can take many different values. "
   ]
  },
  {
   "cell_type": "code",
   "execution_count": 1,
   "metadata": {},
   "outputs": [],
   "source": [
    "import numpy as np\n",
    "import seaborn as sns\n",
    "from google.cloud import bigquery\n",
    "\n",
    "import matplotlib as plt\n",
    "%matplotlib inline\n",
    "\n",
    "import matplotlib as plt\n",
    "%matplotlib inline\n",
    "import os\n",
    "# As discussed in the class, you will have to create a free account on Google Cloud Platform, enable BigQuery API and create\n",
    "# a credential file associated with your project. Save this file to your computer. Ensure that the file is in your operating\n",
    "# systems search path. The name of your file may be different from gcp.json.\n",
    "\n",
    "credential_path = \"gcp.json\"\n",
    "os.environ['GOOGLE_APPLICATION_CREDENTIALS'] = credential_path"
   ]
  },
  {
   "cell_type": "code",
   "execution_count": 2,
   "metadata": {},
   "outputs": [],
   "source": [
    "bq = bigquery.Client()"
   ]
  },
  {
   "cell_type": "code",
   "execution_count": 3,
   "metadata": {},
   "outputs": [],
   "source": [
    "query = \"\"\"\n",
    "SELECT\n",
    "  weight_pounds,\n",
    "  is_male,\n",
    "  gestation_weeks,\n",
    "  mother_age,\n",
    "  plurality,\n",
    "  mother_race\n",
    "FROM\n",
    "  `bigquery-public-data.samples.natality`\n",
    "WHERE\n",
    "  weight_pounds IS NOT NULL\n",
    "  AND is_male = true\n",
    "  AND gestation_weeks = 38\n",
    "  AND mother_age = 28\n",
    "  AND mother_race = 1\n",
    "  AND plurality = 1\n",
    "  AND RAND() < 0.01\n",
    "\"\"\""
   ]
  },
  {
   "cell_type": "code",
   "execution_count": 4,
   "metadata": {},
   "outputs": [
    {
     "data": {
      "text/html": [
       "<div>\n",
       "<style scoped>\n",
       "    .dataframe tbody tr th:only-of-type {\n",
       "        vertical-align: middle;\n",
       "    }\n",
       "\n",
       "    .dataframe tbody tr th {\n",
       "        vertical-align: top;\n",
       "    }\n",
       "\n",
       "    .dataframe thead th {\n",
       "        text-align: right;\n",
       "    }\n",
       "</style>\n",
       "<table border=\"1\" class=\"dataframe\">\n",
       "  <thead>\n",
       "    <tr style=\"text-align: right;\">\n",
       "      <th></th>\n",
       "      <th>weight_pounds</th>\n",
       "      <th>is_male</th>\n",
       "      <th>gestation_weeks</th>\n",
       "      <th>mother_age</th>\n",
       "      <th>plurality</th>\n",
       "      <th>mother_race</th>\n",
       "    </tr>\n",
       "  </thead>\n",
       "  <tbody>\n",
       "    <tr>\n",
       "      <th>0</th>\n",
       "      <td>8.990451</td>\n",
       "      <td>True</td>\n",
       "      <td>38</td>\n",
       "      <td>28</td>\n",
       "      <td>1</td>\n",
       "      <td>1</td>\n",
       "    </tr>\n",
       "    <tr>\n",
       "      <th>1</th>\n",
       "      <td>8.062305</td>\n",
       "      <td>True</td>\n",
       "      <td>38</td>\n",
       "      <td>28</td>\n",
       "      <td>1</td>\n",
       "      <td>1</td>\n",
       "    </tr>\n",
       "    <tr>\n",
       "      <th>2</th>\n",
       "      <td>6.000983</td>\n",
       "      <td>True</td>\n",
       "      <td>38</td>\n",
       "      <td>28</td>\n",
       "      <td>1</td>\n",
       "      <td>1</td>\n",
       "    </tr>\n",
       "    <tr>\n",
       "      <th>3</th>\n",
       "      <td>7.561856</td>\n",
       "      <td>True</td>\n",
       "      <td>38</td>\n",
       "      <td>28</td>\n",
       "      <td>1</td>\n",
       "      <td>1</td>\n",
       "    </tr>\n",
       "    <tr>\n",
       "      <th>4</th>\n",
       "      <td>9.312326</td>\n",
       "      <td>True</td>\n",
       "      <td>38</td>\n",
       "      <td>28</td>\n",
       "      <td>1</td>\n",
       "      <td>1</td>\n",
       "    </tr>\n",
       "  </tbody>\n",
       "</table>\n",
       "</div>"
      ],
      "text/plain": [
       "   weight_pounds  is_male  gestation_weeks  mother_age  plurality  mother_race\n",
       "0       8.990451     True               38          28          1            1\n",
       "1       8.062305     True               38          28          1            1\n",
       "2       6.000983     True               38          28          1            1\n",
       "3       7.561856     True               38          28          1            1\n",
       "4       9.312326     True               38          28          1            1"
      ]
     },
     "execution_count": 4,
     "metadata": {},
     "output_type": "execute_result"
    }
   ],
   "source": [
    "df = bq.query(query).to_dataframe()\n",
    "df.head()"
   ]
  },
  {
   "cell_type": "code",
   "execution_count": 37,
   "metadata": {},
   "outputs": [
    {
     "name": "stderr",
     "output_type": "stream",
     "text": [
      "/home/asamant/.local/lib/python3.8/site-packages/seaborn/distributions.py:2557: FutureWarning: `distplot` is a deprecated function and will be removed in a future version. Please adapt your code to use either `displot` (a figure-level function with similar flexibility) or `histplot` (an axes-level function for histograms).\n",
      "  warnings.warn(msg, FutureWarning)\n",
      "/usr/lib/python3/dist-packages/matplotlib/cbook/__init__.py:1402: FutureWarning: Support for multi-dimensional indexing (e.g. `obj[:, None]`) is deprecated and will be removed in a future version.  Convert to a numpy array before indexing instead.\n",
      "  ndim = x[:, None].ndim\n",
      "/usr/lib/python3/dist-packages/matplotlib/axes/_base.py:276: FutureWarning: Support for multi-dimensional indexing (e.g. `obj[:, None]`) is deprecated and will be removed in a future version.  Convert to a numpy array before indexing instead.\n",
      "  x = x[:, np.newaxis]\n",
      "/usr/lib/python3/dist-packages/matplotlib/axes/_base.py:278: FutureWarning: Support for multi-dimensional indexing (e.g. `obj[:, None]`) is deprecated and will be removed in a future version.  Convert to a numpy array before indexing instead.\n",
      "  y = y[:, np.newaxis]\n"
     ]
    },
    {
     "data": {
      "image/png": "[encoded data removed]",
      "text/plain": [
       "<Figure size 432x288 with 1 Axes>"
      ]
     },
     "metadata": {
      "needs_background": "light"
     },
     "output_type": "display_data"
    }
   ],
   "source": [
    "fig = sns.distplot(df[[\"weight_pounds\"]])\n",
    "fig.set_title(\"Distribution of baby weight\")\n",
    "fig.set_xlabel(\"weight_pounds\")\n",
    "fig.figure.savefig(\"weight_distrib.png\")"
   ]
  },
  {
   "cell_type": "code",
   "execution_count": 36,
   "metadata": {},
   "outputs": [
    {
     "data": {
      "text/plain": [
       "7.230100697524093"
      ]
     },
     "execution_count": 36,
     "metadata": {},
     "output_type": "execute_result"
    }
   ],
   "source": [
    "#average weight_pounds for this cross section\n",
    "np.mean(df.weight_pounds)"
   ]
  },
  {
   "cell_type": "code",
   "execution_count": 7,
   "metadata": {},
   "outputs": [
    {
     "data": {
      "text/plain": [
       "1.0083324068268535"
      ]
     },
     "execution_count": 7,
     "metadata": {},
     "output_type": "execute_result"
    }
   ],
   "source": [
    "np.std(df.weight_pounds)"
   ]
  },
  {
   "cell_type": "code",
   "execution_count": 8,
   "metadata": {},
   "outputs": [
    {
     "name": "stdout",
     "output_type": "stream",
     "text": [
      "weeks=36 age=28 mean=6.772652379674466 stddev=1.1376225257474586\n"
     ]
    }
   ],
   "source": [
    "weeks = 36\n",
    "age = 28\n",
    "query = \"\"\"\n",
    "SELECT\n",
    "  weight_pounds,\n",
    "  is_male,\n",
    "  gestation_weeks,\n",
    "  mother_age,\n",
    "  plurality,\n",
    "  mother_race\n",
    "FROM\n",
    "  `bigquery-public-data.samples.natality`\n",
    "WHERE\n",
    "  weight_pounds IS NOT NULL\n",
    "  AND is_male = true\n",
    "  AND gestation_weeks = {}\n",
    "  AND mother_age = {}\n",
    "  AND mother_race = 1\n",
    "  AND plurality = 1\n",
    "  AND RAND() < 0.01\n",
    "\"\"\".format(weeks, age)\n",
    "df = bq.query(query).to_dataframe()\n",
    "print('weeks={} age={} mean={} stddev={}'.format(weeks, age, np.mean(df.weight_pounds), np.std(df.weight_pounds)))"
   ]
  },
  {
   "cell_type": "markdown",
   "metadata": {},
   "source": [
    "## Comparing categorical label and regression\n",
    "\n",
    "Since baby weight is a positive real value, this is intuitively a regression problem. However, we can train the model as a multi-class classification by bucketizing the output label. At inference time, the model then predicts a collection of probabilities corresponding to these potential outputs. \n",
    "\n",
    "Let's do both and see how they compare. "
   ]
  },
  {
   "cell_type": "code",
   "execution_count": 9,
   "metadata": {},
   "outputs": [],
   "source": [
    "import os\n",
    "\n",
    "import numpy as np\n",
    "import pandas as pd\n",
    "import tensorflow as tf\n",
    "\n",
    "import matplotlib.pyplot as plt\n",
    "from tensorflow.keras.utils import to_categorical\n",
    "from tensorflow import keras\n",
    "from tensorflow import feature_column as fc\n",
    "from tensorflow.keras import layers, models, Model\n",
    "%matplotlib inline"
   ]
  },
  {
   "cell_type": "code",
   "execution_count": 10,
   "metadata": {},
   "outputs": [],
   "source": [
    "df = pd.read_csv(\"babyweight_train.csv\")"
   ]
  },
  {
   "cell_type": "markdown",
   "metadata": {},
   "source": [
    "We'll use the same features for both models. But we need to create a categorical weight label for the classification model. "
   ]
  },
  {
   "cell_type": "code",
   "execution_count": 11,
   "metadata": {},
   "outputs": [],
   "source": [
    "# prepare inputs\n",
    "df.is_male = df.is_male.astype(str)\n",
    "\n",
    "df.mother_race.fillna(0, inplace = True)\n",
    "df.mother_race = df.mother_race.astype(str)\n",
    "\n",
    "# create categorical label\n",
    "def categorical_weight(weight_pounds):\n",
    "    if weight_pounds < 3.31:\n",
    "        return 0\n",
    "    elif weight_pounds >= 3.31 and weight_pounds < 5.5:\n",
    "        return 1\n",
    "    elif weight_pounds >= 5.5 and weight_pounds < 8.8:\n",
    "        return 2\n",
    "    else:\n",
    "        return 3\n",
    "\n",
    "df[\"weight_category\"] = df.weight_pounds.apply(lambda x: categorical_weight(x))"
   ]
  },
  {
   "cell_type": "code",
   "execution_count": 12,
   "metadata": {},
   "outputs": [
    {
     "data": {
      "text/html": [
       "<div>\n",
       "<style scoped>\n",
       "    .dataframe tbody tr th:only-of-type {\n",
       "        vertical-align: middle;\n",
       "    }\n",
       "\n",
       "    .dataframe tbody tr th {\n",
       "        vertical-align: top;\n",
       "    }\n",
       "\n",
       "    .dataframe thead th {\n",
       "        text-align: right;\n",
       "    }\n",
       "</style>\n",
       "<table border=\"1\" class=\"dataframe\">\n",
       "  <thead>\n",
       "    <tr style=\"text-align: right;\">\n",
       "      <th></th>\n",
       "      <th>weight_pounds</th>\n",
       "      <th>is_male</th>\n",
       "      <th>mother_age</th>\n",
       "      <th>plurality</th>\n",
       "      <th>gestation_weeks</th>\n",
       "      <th>mother_race</th>\n",
       "      <th>weight_category</th>\n",
       "    </tr>\n",
       "  </thead>\n",
       "  <tbody>\n",
       "    <tr>\n",
       "      <th>0</th>\n",
       "      <td>7.749249</td>\n",
       "      <td>False</td>\n",
       "      <td>12</td>\n",
       "      <td>Single(1)</td>\n",
       "      <td>40</td>\n",
       "      <td>1.0</td>\n",
       "      <td>2</td>\n",
       "    </tr>\n",
       "    <tr>\n",
       "      <th>1</th>\n",
       "      <td>7.561856</td>\n",
       "      <td>True</td>\n",
       "      <td>12</td>\n",
       "      <td>Single(1)</td>\n",
       "      <td>40</td>\n",
       "      <td>2.0</td>\n",
       "      <td>2</td>\n",
       "    </tr>\n",
       "    <tr>\n",
       "      <th>2</th>\n",
       "      <td>7.187070</td>\n",
       "      <td>False</td>\n",
       "      <td>12</td>\n",
       "      <td>Single(1)</td>\n",
       "      <td>34</td>\n",
       "      <td>3.0</td>\n",
       "      <td>2</td>\n",
       "    </tr>\n",
       "    <tr>\n",
       "      <th>3</th>\n",
       "      <td>6.375769</td>\n",
       "      <td>True</td>\n",
       "      <td>12</td>\n",
       "      <td>Single(1)</td>\n",
       "      <td>36</td>\n",
       "      <td>2.0</td>\n",
       "      <td>2</td>\n",
       "    </tr>\n",
       "    <tr>\n",
       "      <th>4</th>\n",
       "      <td>7.936641</td>\n",
       "      <td>False</td>\n",
       "      <td>12</td>\n",
       "      <td>Single(1)</td>\n",
       "      <td>35</td>\n",
       "      <td>0.0</td>\n",
       "      <td>2</td>\n",
       "    </tr>\n",
       "  </tbody>\n",
       "</table>\n",
       "</div>"
      ],
      "text/plain": [
       "   weight_pounds is_male  mother_age  plurality  gestation_weeks mother_race  \\\n",
       "0       7.749249   False          12  Single(1)               40         1.0   \n",
       "1       7.561856    True          12  Single(1)               40         2.0   \n",
       "2       7.187070   False          12  Single(1)               34         3.0   \n",
       "3       6.375769    True          12  Single(1)               36         2.0   \n",
       "4       7.936641   False          12  Single(1)               35         0.0   \n",
       "\n",
       "   weight_category  \n",
       "0                2  \n",
       "1                2  \n",
       "2                2  \n",
       "3                2  \n",
       "4                2  "
      ]
     },
     "execution_count": 12,
     "metadata": {},
     "output_type": "execute_result"
    }
   ],
   "source": [
    "df.head()"
   ]
  },
  {
   "cell_type": "code",
   "execution_count": 13,
   "metadata": {},
   "outputs": [],
   "source": [
    "def encode_labels(classes):\n",
    "    one_hots = to_categorical(classes)\n",
    "    return one_hots\n",
    "\n",
    "FEATURES = ['is_male', 'mother_age', 'plurality', 'gestation_weeks', 'mother_race']\n",
    "\n",
    "LABEL_CLS = ['weight_category']\n",
    "LABEL_REG = ['weight_pounds']\n",
    "\n",
    "N_TRAIN = int(df.shape[0] * 0.80)\n",
    "\n",
    "X_train = df[FEATURES][:N_TRAIN]\n",
    "X_valid = df[FEATURES][N_TRAIN:]\n",
    "\n",
    "y_train_cls = encode_labels(df[LABEL_CLS][:N_TRAIN])\n",
    "y_train_reg = df[LABEL_REG][:N_TRAIN]\n",
    "\n",
    "y_valid_cls = encode_labels(df[LABEL_CLS][N_TRAIN:])\n",
    "y_valid_reg = df[LABEL_REG][N_TRAIN:]"
   ]
  },
  {
   "cell_type": "markdown",
   "metadata": {},
   "source": [
    "Create `tf.data` datsets for both classification and regression."
   ]
  },
  {
   "cell_type": "code",
   "execution_count": 14,
   "metadata": {},
   "outputs": [],
   "source": [
    "# train/validation dataset for classification model\n",
    "cls_train_data = tf.data.Dataset.from_tensor_slices((X_train.to_dict('list'), y_train_cls))\n",
    "cls_valid_data = tf.data.Dataset.from_tensor_slices((X_valid.to_dict('list'), y_valid_cls))\n",
    "\n",
    "# train/validation dataset for regression model\n",
    "reg_train_data = tf.data.Dataset.from_tensor_slices((X_train.to_dict('list'), y_train_reg.values))\n",
    "reg_valid_data = tf.data.Dataset.from_tensor_slices((X_valid.to_dict('list'), y_valid_reg.values))"
   ]
  },
  {
   "cell_type": "code",
   "execution_count": 15,
   "metadata": {},
   "outputs": [
    {
     "name": "stdout",
     "output_type": "stream",
     "text": [
      "({'is_male': <tf.Tensor: shape=(), dtype=string, numpy=b'False'>, 'mother_age': <tf.Tensor: shape=(), dtype=int32, numpy=12>, 'plurality': <tf.Tensor: shape=(), dtype=string, numpy=b'Single(1)'>, 'gestation_weeks': <tf.Tensor: shape=(), dtype=int32, numpy=40>, 'mother_race': <tf.Tensor: shape=(), dtype=string, numpy=b'1.0'>}, <tf.Tensor: shape=(4,), dtype=float32, numpy=array([0., 0., 1., 0.], dtype=float32)>)\n",
      "\n",
      "({'is_male': <tf.Tensor: shape=(), dtype=string, numpy=b'False'>, 'mother_age': <tf.Tensor: shape=(), dtype=int32, numpy=12>, 'plurality': <tf.Tensor: shape=(), dtype=string, numpy=b'Single(1)'>, 'gestation_weeks': <tf.Tensor: shape=(), dtype=int32, numpy=40>, 'mother_race': <tf.Tensor: shape=(), dtype=string, numpy=b'1.0'>}, <tf.Tensor: shape=(1,), dtype=float64, numpy=array([7.74924851])>)\n",
      "\n"
     ]
    }
   ],
   "source": [
    "# Examine the two datasets. Notice the different label values.\n",
    "for data_type in [cls_train_data, reg_train_data]:\n",
    "    for dict_slice in data_type.take(1):\n",
    "        print(\"{}\\n\".format(dict_slice))"
   ]
  },
  {
   "cell_type": "code",
   "execution_count": 16,
   "metadata": {},
   "outputs": [],
   "source": [
    "# create feature columns to handle categorical variables\n",
    "numeric_columns = [fc.numeric_column(\"mother_age\"),\n",
    "                  fc.numeric_column(\"gestation_weeks\")]\n",
    "\n",
    "CATEGORIES = {\n",
    "    'plurality': list(df.plurality.unique()),\n",
    "    'is_male' : list(df.is_male.unique()),\n",
    "    'mother_race': list(df.mother_race.unique())\n",
    "}\n",
    "\n",
    "categorical_columns = []\n",
    "for feature, vocab in CATEGORIES.items():\n",
    "    cat_col = fc.categorical_column_with_vocabulary_list(\n",
    "        key=feature, vocabulary_list=vocab, dtype=tf.string)\n",
    "    categorical_columns.append(fc.indicator_column(cat_col))"
   ]
  },
  {
   "cell_type": "code",
   "execution_count": 17,
   "metadata": {},
   "outputs": [],
   "source": [
    "# create Inputs for model\n",
    "inputs = {colname: tf.keras.layers.Input(\n",
    "    name=colname, shape=(), dtype=\"float32\")\n",
    "    for colname in [\"mother_age\", \"gestation_weeks\"]}\n",
    "inputs.update({colname: tf.keras.layers.Input(\n",
    "    name=colname, shape=(), dtype=tf.string)\n",
    "    for colname in [\"plurality\", \"is_male\", \"mother_race\"]})\n",
    "\n",
    "# build DenseFeatures for the model\n",
    "dnn_inputs = layers.DenseFeatures(categorical_columns+numeric_columns)(inputs)\n",
    "\n",
    "# create hidden layers\n",
    "h1 = layers.Dense(20, activation=\"relu\")(dnn_inputs)\n",
    "h2 = layers.Dense(10, activation=\"relu\")(h1)\n",
    "\n",
    "# create classification model\n",
    "cls_output = layers.Dense(4, activation=\"softmax\")(h2)\n",
    "cls_model = tf.keras.models.Model(inputs=inputs, outputs=cls_output)\n",
    "cls_model.compile(optimizer='adam',\n",
    "              loss=tf.keras.losses.CategoricalCrossentropy(),\n",
    "              metrics=['accuracy'])   \n",
    "\n",
    "\n",
    "# create regression model\n",
    "reg_output = layers.Dense(1, activation=\"relu\")(h2)\n",
    "reg_model = tf.keras.models.Model(inputs=inputs, outputs=reg_output)\n",
    "reg_model.compile(optimizer='adam',\n",
    "              loss=tf.keras.losses.MeanSquaredError(),\n",
    "              metrics=['mse'])   "
   ]
  },
  {
   "cell_type": "markdown",
   "metadata": {},
   "source": [
    "First, train the classification model and examine the validation accuracy. "
   ]
  },
  {
   "cell_type": "code",
   "execution_count": 18,
   "metadata": {},
   "outputs": [
    {
     "name": "stdout",
     "output_type": "stream",
     "text": [
      "4234/4234 [==============================] - 5s 1ms/step - loss: 0.4815 - accuracy: 0.8512\n",
      "1/1 [==============================] - 0s 351ms/step - loss: 0.7989 - accuracy: 0.7075\n",
      "Validation accuracy for classifcation model: 0.7075387835502625\n"
     ]
    }
   ],
   "source": [
    "# train the classifcation model\n",
    "cls_model.fit(cls_train_data.batch(50), epochs=1)\n",
    "\n",
    "val_loss, val_accuracy = cls_model.evaluate(cls_valid_data.batch(X_valid.shape[0]))\n",
    "print(\"Validation accuracy for classifcation model: {}\".format(val_accuracy))"
   ]
  },
  {
   "cell_type": "markdown",
   "metadata": {},
   "source": [
    "Next, we'll train the regression model and examine the validation RMSE."
   ]
  },
  {
   "cell_type": "code",
   "execution_count": 19,
   "metadata": {},
   "outputs": [
    {
     "name": "stdout",
     "output_type": "stream",
     "text": [
      "4234/4234 [==============================] - 5s 1ms/step - loss: 53.6970 - mse: 53.6970\n",
      "1/1 [==============================] - 0s 305ms/step - loss: 55.3085 - mse: 55.3085\n",
      "Validation RMSE for regression model: 7.436971437281143\n"
     ]
    }
   ],
   "source": [
    "# train the classifcation model\n",
    "reg_model.fit(reg_train_data.batch(50), epochs=1)\n",
    "\n",
    "val_loss, val_mse = reg_model.evaluate(reg_valid_data.batch(X_valid.shape[0]))\n",
    "print(\"Validation RMSE for regression model: {}\".format(val_mse**0.5))"
   ]
  },
  {
   "cell_type": "markdown",
   "metadata": {},
   "source": [
    "The regression model gives a single numeric prediction of baby weight. "
   ]
  },
  {
   "cell_type": "code",
   "execution_count": 20,
   "metadata": {},
   "outputs": [
    {
     "data": {
      "text/plain": [
       "array(0., dtype=float32)"
      ]
     },
     "execution_count": 20,
     "metadata": {},
     "output_type": "execute_result"
    }
   ],
   "source": [
    "preds = reg_model.predict(x={\"gestation_weeks\": tf.convert_to_tensor([38]),\n",
    "                             \"is_male\": tf.convert_to_tensor([\"True\"]),\n",
    "                             \"mother_age\": tf.convert_to_tensor([28]),\n",
    "                             \"mother_race\": tf.convert_to_tensor([\"1.0\"]),\n",
    "                             \"plurality\": tf.convert_to_tensor([\"Single(1)\"])},\n",
    "                          steps=1).squeeze()\n",
    "preds"
   ]
  },
  {
   "cell_type": "markdown",
   "metadata": {},
   "source": [
    "The classification model predicts a probability for each bucket of values. "
   ]
  },
  {
   "cell_type": "code",
   "execution_count": 21,
   "metadata": {},
   "outputs": [
    {
     "data": {
      "text/plain": [
       "array([2.6664796e-07, 3.7026394e-04, 5.0828463e-01, 4.9134478e-01],\n",
       "      dtype=float32)"
      ]
     },
     "execution_count": 21,
     "metadata": {},
     "output_type": "execute_result"
    }
   ],
   "source": [
    "preds = cls_model.predict(x={\"gestation_weeks\": tf.convert_to_tensor([38]),\n",
    "                             \"is_male\": tf.convert_to_tensor([\"True\"]),\n",
    "                             \"mother_age\": tf.convert_to_tensor([28]),\n",
    "                             \"mother_race\": tf.convert_to_tensor([\"1.0\"]),\n",
    "                             \"plurality\": tf.convert_to_tensor([\"Single(1)\"])},\n",
    "                          steps=1).squeeze()\n",
    "preds"
   ]
  },
  {
   "cell_type": "code",
   "execution_count": 22,
   "metadata": {},
   "outputs": [
    {
     "data": {
      "image/png": "[encoded data removed]",
      "text/plain": [
       "<Figure size 432x288 with 1 Axes>"
      ]
     },
     "metadata": {
      "needs_background": "light"
     },
     "output_type": "display_data"
    }
   ],
   "source": [
    "objects = ('very_low', 'low', 'average', 'high')\n",
    "y_pos = np.arange(len(objects))\n",
    "predictions = list(preds)\n",
    "\n",
    "plt.bar(y_pos, predictions, align='center', alpha=0.5)\n",
    "plt.xticks(y_pos, objects)\n",
    "plt.title('Baby weight prediction')\n",
    "\n",
    "plt.show()"
   ]
  },
  {
   "cell_type": "markdown",
   "metadata": {},
   "source": [
    "## Increasing the number of  categorical labels"
   ]
  },
  {
   "cell_type": "markdown",
   "metadata": {},
   "source": [
    "We'll generalize the code above to accommodate `N` label buckets, instead of just 4. "
   ]
  },
  {
   "cell_type": "code",
   "execution_count": 23,
   "metadata": {},
   "outputs": [],
   "source": [
    "# Read in the data and preprocess\n",
    "df = pd.read_csv(\"babyweight_train.csv\")\n",
    "\n",
    "# prepare inputs\n",
    "df.is_male = df.is_male.astype(str)\n",
    "\n",
    "df.mother_race.fillna(0, inplace = True)\n",
    "df.mother_race = df.mother_race.astype(str)\n",
    "    \n",
    "# create categorical label\n",
    "MIN = np.min(df.weight_pounds)\n",
    "MAX = np.max(df.weight_pounds)\n",
    "NBUCKETS = 50\n",
    "\n",
    "def categorical_weight(weight_pounds, weight_min, weight_max, nbuckets=10):\n",
    "    buckets = np.linspace(weight_min, weight_max, nbuckets)\n",
    "    \n",
    "    return np.digitize(weight_pounds, buckets) - 1\n",
    "\n",
    "df[\"weight_category\"] = df.weight_pounds.apply(lambda x: categorical_weight(x, MIN, MAX, NBUCKETS))"
   ]
  },
  {
   "cell_type": "code",
   "execution_count": 24,
   "metadata": {},
   "outputs": [],
   "source": [
    "def encode_labels(classes):\n",
    "    one_hots = to_categorical(classes)\n",
    "    return one_hots\n",
    "\n",
    "FEATURES = ['is_male', 'mother_age', 'plurality', 'gestation_weeks', 'mother_race']\n",
    "LABEL_COLUMN = ['weight_category']\n",
    "\n",
    "N_TRAIN = int(df.shape[0] * 0.80)\n",
    "\n",
    "X_train, y_train = df[FEATURES][:N_TRAIN], encode_labels(df[LABEL_COLUMN][:N_TRAIN])\n",
    "X_valid, y_valid = df[FEATURES][N_TRAIN:], encode_labels(df[LABEL_COLUMN][N_TRAIN:])"
   ]
  },
  {
   "cell_type": "code",
   "execution_count": 25,
   "metadata": {},
   "outputs": [],
   "source": [
    "# create the training dataset\n",
    "train_data = tf.data.Dataset.from_tensor_slices((X_train.to_dict('list'), y_train))\n",
    "valid_data = tf.data.Dataset.from_tensor_slices((X_valid.to_dict('list'), y_valid))"
   ]
  },
  {
   "cell_type": "markdown",
   "metadata": {},
   "source": [
    "Create the feature columns and build the model. "
   ]
  },
  {
   "cell_type": "code",
   "execution_count": 26,
   "metadata": {},
   "outputs": [],
   "source": [
    "# create feature columns to handle categorical variables\n",
    "numeric_columns = [fc.numeric_column(\"mother_age\"),\n",
    "                  fc.numeric_column(\"gestation_weeks\")]\n",
    "\n",
    "CATEGORIES = {\n",
    "    'plurality': list(df.plurality.unique()),\n",
    "    'is_male' : list(df.is_male.unique()),\n",
    "    'mother_race': list(df.mother_race.unique())\n",
    "}\n",
    "\n",
    "categorical_columns = []\n",
    "for feature, vocab in CATEGORIES.items():\n",
    "    cat_col = fc.categorical_column_with_vocabulary_list(\n",
    "        key=feature, vocabulary_list=vocab, dtype=tf.string)\n",
    "    categorical_columns.append(fc.indicator_column(cat_col))"
   ]
  },
  {
   "cell_type": "code",
   "execution_count": 27,
   "metadata": {},
   "outputs": [],
   "source": [
    "# create Inputs for model\n",
    "inputs = {colname: tf.keras.layers.Input(\n",
    "    name=colname, shape=(), dtype=\"float32\")\n",
    "    for colname in [\"mother_age\", \"gestation_weeks\"]}\n",
    "inputs.update({colname: tf.keras.layers.Input(\n",
    "    name=colname, shape=(), dtype=tf.string)\n",
    "    for colname in [\"plurality\", \"is_male\", \"mother_race\"]})\n",
    "\n",
    "# build DenseFeatures for the model\n",
    "dnn_inputs = layers.DenseFeatures(categorical_columns+numeric_columns)(inputs)\n",
    "\n",
    "# model\n",
    "h1 = layers.Dense(20, activation=\"relu\")(dnn_inputs)\n",
    "h2 = layers.Dense(10, activation=\"relu\")(h1)\n",
    "output = layers.Dense(NBUCKETS, activation=\"softmax\")(h2)\n",
    "model = tf.keras.models.Model(inputs=inputs, outputs=output)\n",
    "\n",
    "model.compile(optimizer='adam',\n",
    "              loss=tf.keras.losses.CategoricalCrossentropy(),\n",
    "              metrics=['accuracy'])  "
   ]
  },
  {
   "cell_type": "code",
   "execution_count": 28,
   "metadata": {},
   "outputs": [
    {
     "name": "stdout",
     "output_type": "stream",
     "text": [
      "4234/4234 [==============================] - 6s 1ms/step - loss: 2.6547 - accuracy: 0.1287\n"
     ]
    },
    {
     "data": {
      "text/plain": [
       "<tensorflow.python.keras.callbacks.History at 0x7f684d933e80>"
      ]
     },
     "execution_count": 28,
     "metadata": {},
     "output_type": "execute_result"
    }
   ],
   "source": [
    "# train the model\n",
    "model.fit(train_data.batch(50), epochs=1)"
   ]
  },
  {
   "cell_type": "markdown",
   "metadata": {},
   "source": [
    "Make a prediction on the example above. "
   ]
  },
  {
   "cell_type": "code",
   "execution_count": 29,
   "metadata": {},
   "outputs": [],
   "source": [
    "preds = model.predict(x={\"gestation_weeks\": tf.convert_to_tensor([38]),\n",
    "                         \"is_male\": tf.convert_to_tensor([\"True\"]),\n",
    "                         \"mother_age\": tf.convert_to_tensor([28]),\n",
    "                         \"mother_race\": tf.convert_to_tensor([\"1.0\"]),\n",
    "                         \"plurality\": tf.convert_to_tensor([\"Single(1)\"])},\n",
    "                      steps=1).squeeze()"
   ]
  },
  {
   "cell_type": "code",
   "execution_count": 30,
   "metadata": {},
   "outputs": [
    {
     "data": {
      "image/png": "[encoded data removed]",
      "text/plain": [
       "<Figure size 432x288 with 1 Axes>"
      ]
     },
     "metadata": {
      "needs_background": "light"
     },
     "output_type": "display_data"
    }
   ],
   "source": [
    "objects = [str(_) for _ in range(NBUCKETS)]\n",
    "y_pos = np.arange(len(objects))\n",
    "predictions = list(preds)\n",
    "\n",
    "plt.bar(y_pos, predictions, align='center', alpha=0.5)\n",
    "plt.xticks(y_pos, objects)\n",
    "plt.title('Baby weight prediction')\n",
    "\n",
    "plt.show()"
   ]
  },
  {
   "cell_type": "markdown",
   "metadata": {},
   "source": [
    "## Restricting the prediction range\n",
    "\n",
    "One way to restrict the prediction range is to make the last-but-one activation function sigmoid instead, and add a lambda layer to scale the (0,1) values to the desired range. The drawback is that it will be difficult for the neural network to reach the extreme values."
   ]
  },
  {
   "cell_type": "code",
   "execution_count": 31,
   "metadata": {},
   "outputs": [
    {
     "name": "stdout",
     "output_type": "stream",
     "text": [
      "64/64 [==============================] - 0s 594us/step - loss: 9.7526\n",
      "64/64 [==============================] - 0s 621us/step - loss: 6.3835\n",
      "64/64 [==============================] - 0s 551us/step - loss: 4.5263\n",
      "64/64 [==============================] - 0s 593us/step - loss: 2.8359\n",
      "64/64 [==============================] - 0s 528us/step - loss: 1.8617\n",
      "64/64 [==============================] - 0s 589us/step - loss: 1.2821\n",
      "64/64 [==============================] - 0s 585us/step - loss: 0.9193\n",
      "64/64 [==============================] - 0s 618us/step - loss: 0.7087\n",
      "64/64 [==============================] - 0s 582us/step - loss: 0.5396\n",
      "64/64 [==============================] - 0s 582us/step - loss: 0.4114\n",
      "min=3.0057969093322754 max=19.922550201416016\n"
     ]
    }
   ],
   "source": [
    "import numpy as np\n",
    "import tensorflow as tf\n",
    "from tensorflow import keras\n",
    "\n",
    "MIN_Y =  3\n",
    "MAX_Y = 20\n",
    "input_size = 10\n",
    "inputs = keras.layers.Input(shape=(input_size,))\n",
    "h1 = keras.layers.Dense(20, 'relu')(inputs)\n",
    "h2 = keras.layers.Dense(1, 'sigmoid')(h1)  # 0-1 range\n",
    "output = keras.layers.Lambda(lambda y : (y*(MAX_Y-MIN_Y) + MIN_Y))(h2) # scaled\n",
    "model = keras.Model(inputs, output)\n",
    "\n",
    "# fit the model\n",
    "model.compile(optimizer='adam', loss='mse')\n",
    "batch_size = 2048\n",
    "for i in range(0, 10):\n",
    "    x = np.random.rand(batch_size, input_size)\n",
    "    y = 0.5*(x[:,0] + x[:,1]) * (MAX_Y-MIN_Y) + MIN_Y\n",
    "    model.fit(x, y)\n",
    "\n",
    "# verify\n",
    "min_y = np.finfo(np.float64).max\n",
    "max_y = np.finfo(np.float64).min\n",
    "for i in range(0, 10):\n",
    "    x = np.random.randn(batch_size, input_size)\n",
    "    y = model.predict(x)\n",
    "    min_y = min(y.min(), min_y)\n",
    "    max_y = max(y.max(), max_y)\n",
    "print('min={} max={}'.format(min_y, max_y))"
   ]
  },
  {
   "cell_type": "markdown",
   "metadata": {},
   "source": [
    "Copyright 2020 Google Inc. Licensed under the Apache License, Version 2.0 (the \"License\"); you may not use this file except in compliance with the License. You may obtain a copy of the License at http://www.apache.org/licenses/LICENSE-2.0 Unless required by applicable law or agreed to in writing, software distributed under the License is distributed on an \"AS IS\" BASIS, WITHOUT WARRANTIES OR CONDITIONS OF ANY KIND, either express or implied. See the License for the specific language governing permissions and limitations under the License"
   ]
  }
 ],
 "metadata": {
  "kernelspec": {
   "display_name": "Python 3",
   "language": "python",
   "name": "python3"
  },
  "language_info": {
   "codemirror_mode": {
    "name": "ipython",
    "version": 3
   },
   "file_extension": ".py",
   "mimetype": "text/x-python",
   "name": "python",
   "nbconvert_exporter": "python",
   "pygments_lexer": "ipython3",
   "version": "3.8.5"
  }
 },
 "nbformat": 4,
 "nbformat_minor": 4
}
