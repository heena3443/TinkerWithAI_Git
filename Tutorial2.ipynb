{
 "cells": [
  {
   "cell_type": "markdown",
   "metadata": {},
   "source": [
    "# Exploring New Datasets\n",
    "\n",
    "In this tutorial, we will look at the COVID-19 epidemiological dataset from Google Cloud Public Datasets. It is a set of free, publically available data hosted in BigQuery. Notice that for a given set of inputs, the weight_pounds (the label) can take many different values. \n",
    "\n",
    "This repository contains the largest COVID-19 epidemiological database available in addition to a powerful set of expansive covariates. It includes open sourced data with a permissive license (enabling commercial use) relating to vaccinations, epidemiology, hospitalizations, demographics, economy, geography, health, mobility, government response, weather, and more. Moreover, the data merges daily time-series from hundreds of data sources at a fine spatial resolution, containing over 20,000 locations and using a consistent set of region keys.\n",
    "\n"
   ]
  },
  {
   "cell_type": "markdown",
   "metadata": {},
   "source": []
  },
  {
   "cell_type": "code",
   "execution_count": 1,
   "metadata": {},
   "outputs": [],
   "source": [
    "# These are all the modules that we will need for this lab. \n",
    "import numpy as np\n",
    "import seaborn as sns\n",
    "from google.cloud import bigquery\n",
    "\n",
    "import matplotlib as plt\n",
    "%matplotlib inline\n",
    "import os\n",
    "# As discussed in the instructions, you will have to create a free account on Google Cloud Platform, enable BigQuery API and create\n",
    "# a credential file associated with your project. Save this file to your computer. Ensure that the file is in your operating\n",
    "# systems search path. The name of your file may be different from gcp.json.\n",
    "\n",
    "credential_path = \"gcp.json\"\n",
    "os.environ['GOOGLE_APPLICATION_CREDENTIALS'] = credential_path"
   ]
  },
  {
   "cell_type": "code",
   "execution_count": 2,
   "metadata": {
    "scrolled": true
   },
   "outputs": [],
   "source": [
    "#Create a big query client\n",
    "bq = bigquery.Client()"
   ]
  },
  {
   "cell_type": "markdown",
   "metadata": {},
   "source": [
    "How many confirmed COVID-19 cases did each country have at the end of June?\n",
    "This query determines the cumulative number of COVID-19 cases for each county, as well as a normalization of cumulative cases by country population, as of the end of June. \n",
    "https://console.cloud.google.com/bigquery?sq=1056986132837:0c435df9e5e145da81c06fa9f33e51fe"
   ]
  },
  {
   "cell_type": "code",
   "execution_count": 3,
   "metadata": {},
   "outputs": [],
   "source": [
    "query = \"\"\"\n",
    "WITH\n",
    "  country_pop AS (\n",
    "  SELECT\n",
    "    country_code AS iso_3166_1_alpha_3,\n",
    "    year_2018 AS population_2018\n",
    "  FROM\n",
    "    `bigquery-public-data.world_bank_global_population.population_by_country`)\n",
    "SELECT\n",
    "  country_code,\n",
    "  country_name,\n",
    "  cumulative_confirmed AS june_confirmed_cases,\n",
    "  population_2018,\n",
    "  ROUND(cumulative_confirmed/population_2018 * 100,2) AS case_percent\n",
    "FROM\n",
    "  `bigquery-public-data.covid19_open_data.covid19_open_data`\n",
    "JOIN\n",
    "  country_pop\n",
    "USING\n",
    "  (iso_3166_1_alpha_3)\n",
    "WHERE\n",
    "  date = '2020-06-30'\n",
    "  AND aggregation_level = 0\n",
    "ORDER BY\n",
    "  case_percent DESC\n",
    "\"\"\""
   ]
  },
  {
   "cell_type": "code",
   "execution_count": 4,
   "metadata": {},
   "outputs": [
    {
     "data": {
      "text/html": [
       "<div>\n",
       "<style scoped>\n",
       "    .dataframe tbody tr th:only-of-type {\n",
       "        vertical-align: middle;\n",
       "    }\n",
       "\n",
       "    .dataframe tbody tr th {\n",
       "        vertical-align: top;\n",
       "    }\n",
       "\n",
       "    .dataframe thead th {\n",
       "        text-align: right;\n",
       "    }\n",
       "</style>\n",
       "<table border=\"1\" class=\"dataframe\">\n",
       "  <thead>\n",
       "    <tr style=\"text-align: right;\">\n",
       "      <th></th>\n",
       "      <th>country_code</th>\n",
       "      <th>country_name</th>\n",
       "      <th>june_confirmed_cases</th>\n",
       "      <th>population_2018</th>\n",
       "      <th>case_percent</th>\n",
       "    </tr>\n",
       "  </thead>\n",
       "  <tbody>\n",
       "    <tr>\n",
       "      <th>0</th>\n",
       "      <td>QA</td>\n",
       "      <td>Qatar</td>\n",
       "      <td>97003.0</td>\n",
       "      <td>2781677.0</td>\n",
       "      <td>3.49</td>\n",
       "    </tr>\n",
       "    <tr>\n",
       "      <th>1</th>\n",
       "      <td>SM</td>\n",
       "      <td>San Marino</td>\n",
       "      <td>713.0</td>\n",
       "      <td>33785.0</td>\n",
       "      <td>2.11</td>\n",
       "    </tr>\n",
       "    <tr>\n",
       "      <th>2</th>\n",
       "      <td>BH</td>\n",
       "      <td>Bahrain</td>\n",
       "      <td>27414.0</td>\n",
       "      <td>1569439.0</td>\n",
       "      <td>1.75</td>\n",
       "    </tr>\n",
       "    <tr>\n",
       "      <th>3</th>\n",
       "      <td>CL</td>\n",
       "      <td>Chile</td>\n",
       "      <td>247914.0</td>\n",
       "      <td>18729160.0</td>\n",
       "      <td>1.32</td>\n",
       "    </tr>\n",
       "    <tr>\n",
       "      <th>4</th>\n",
       "      <td>KW</td>\n",
       "      <td>Kuwait</td>\n",
       "      <td>46940.0</td>\n",
       "      <td>4137309.0</td>\n",
       "      <td>1.13</td>\n",
       "    </tr>\n",
       "  </tbody>\n",
       "</table>\n",
       "</div>"
      ],
      "text/plain": [
       "  country_code country_name  june_confirmed_cases  population_2018  \\\n",
       "0           QA        Qatar               97003.0        2781677.0   \n",
       "1           SM   San Marino                 713.0          33785.0   \n",
       "2           BH      Bahrain               27414.0        1569439.0   \n",
       "3           CL        Chile              247914.0       18729160.0   \n",
       "4           KW       Kuwait               46940.0        4137309.0   \n",
       "\n",
       "   case_percent  \n",
       "0          3.49  \n",
       "1          2.11  \n",
       "2          1.75  \n",
       "3          1.32  \n",
       "4          1.13  "
      ]
     },
     "execution_count": 4,
     "metadata": {},
     "output_type": "execute_result"
    }
   ],
   "source": [
    "#Convert the query to a dataframe so that other modules can use it\n",
    "df = bq.query(query).to_dataframe()\n",
    "df.head()"
   ]
  },
  {
   "cell_type": "code",
   "execution_count": 5,
   "metadata": {},
   "outputs": [
    {
     "data": {
      "image/png": "[encoded data removed]",
      "text/plain": [
       "<Figure size 432x288 with 1 Axes>"
      ]
     },
     "metadata": {
      "needs_background": "light"
     },
     "output_type": "display_data"
    }
   ],
   "source": [
    "#Plot the case percentage to see the distribution\n",
    "fig = sns.histplot(df[[\"case_percent\"]])\n",
    "fig.set_title(\"June confirmed cases\")\n",
    "fig.set_xlabel(\"cases as percent of total population\")\n",
    "fig.figure.savefig(\"june_case_dist.png\")"
   ]
  },
  {
   "cell_type": "code",
   "execution_count": 15,
   "metadata": {},
   "outputs": [
    {
     "data": {
      "image/png": "[encoded data removed]",
      "text/plain": [
       "<Figure size 432x288 with 1 Axes>"
      ]
     },
     "metadata": {
      "needs_background": "light"
     },
     "output_type": "display_data"
    }
   ],
   "source": [
    "fig = sns.scatterplot(data=df, x=\"country_code\", y=\"june_confirmed_cases\")\n",
    "fig.set_title(\"June confirmed cases\")\n",
    "fig.set_xticklabels(labels=\"country_code\", rotation=90)\n",
    "fig.figure.savefig(\"june_case_dist.png\")"
   ]
  },
  {
   "cell_type": "markdown",
   "metadata": {},
   "source": [
    "### Assignment\n",
    "\n",
    "How did confirmed COVID-19 cases compare to COVID-19 tests in the US during the month of June, by state?\n",
    "This query determines the percent of reported COVID-19 tests in each US state that returned positive by dividing the total number of reported tests that returned positive by the total number of COVID-19 tests conducted in the month of June. \n",
    "https://console.cloud.google.com/bigquery?sq=1056986132837:c4ebc39e4be24f7685888eacf220e146\n",
    "\n",
    "Steps\n",
    "1. Create a new branch git branch branch2 \n",
    "2. Checkout to that branch git checkout branch2\n",
    "3. Save Tutorial2.ipynb as a new file titled \"<yourFirstName_yourLastName.ipynb>\n",
    "4. Enter code in the two cells below\n",
    "5. Add your file, using the command git add [file]\n",
    "6. Commit your file, using the command git commit -m \"[descriptive message]\"\n",
    "7. Push your changes (upload allo local branch commits to GitHub), using the command git push"
   ]
  },
  {
   "cell_type": "code",
   "execution_count": null,
   "metadata": {},
   "outputs": [],
   "source": [
    "#Uncomment line 2 and line 4 and enter your query\n",
    "#query=\"\"\"\n",
    "#Enter your query here\n",
    "#\"\"\""
   ]
  },
  {
   "cell_type": "code",
   "execution_count": null,
   "metadata": {},
   "outputs": [],
   "source": [
    "#Enter your code to generate one inference graph as shown above"
   ]
  }
 ],
 "metadata": {
  "kernelspec": {
   "display_name": "Python 3",
   "language": "python",
   "name": "python3"
  },
  "language_info": {
   "codemirror_mode": {
    "name": "ipython",
    "version": 3
   },
   "file_extension": ".py",
   "mimetype": "text/x-python",
   "name": "python",
   "nbconvert_exporter": "python",
   "pygments_lexer": "ipython3",
   "version": "3.7.6"
  }
 },
 "nbformat": 4,
 "nbformat_minor": 4
}
