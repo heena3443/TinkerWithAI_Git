{
 "cells": [
  {
   "cell_type": "markdown",
   "metadata": {},
   "source": [
    "# Lab8 Reframing Design Pattern\n",
    "\n",
    "The *Reframing design pattern* refers to changing the representation of the output of a machine learning problem. For example, we could take something that is intuitively a regression problem and instead pose it as a classification problem (and vice versa).\n",
    "\n",
    "\n",
    "Note: For the code that has been provided to  you, try to understand what each line does, especially the part where the code is making inputs for the TensorFlow (TF) model. The TF part of the program can be a little nitty gritty, which is why we have provided it to  you. You can use your lab time to understand the code that has been provided to you. Please ask for help from your TA or instructor if you have questions.\n",
    "\n",
    "Save your file as <uteid_Lab8>.ipynb and submit as your submission\n",
    "\n",
    "\n"
   ]
  },
  {
   "cell_type": "markdown",
   "metadata": {},
   "source": [
    "In this lab, we will look at the natality dataset from Google Cloud Public Datasets. It is a set of free, publically available data hosted in BigQuery. Notice that for a given set of inputs, the weight_pounds (the label) can take many different values. "
   ]
  },
  {
   "cell_type": "code",
   "execution_count": 3,
   "metadata": {},
   "outputs": [],
   "source": [
    "# These are all the modules that we will need for this lab. \n",
    "import numpy as np\n",
    "import seaborn as sns\n",
    "from google.cloud import bigquery\n",
    "\n",
    "import matplotlib as plt\n",
    "%matplotlib inline\n",
    "import os\n",
    "# As discussed in the class, you will have to create a free account on Google Cloud Platform, enable BigQuery API and create\n",
    "# a credential file associated with your project. Save this file to your computer. Ensure that the file is in your operating\n",
    "# systems search path. The name of your file may be different from gcp.json.\n",
    "\n",
    "credential_path = \"gcp.json\"\n",
    "os.environ['GOOGLE_APPLICATION_CREDENTIALS'] = credential_path"
   ]
  },
  {
   "cell_type": "code",
   "execution_count": 4,
   "metadata": {},
   "outputs": [],
   "source": [
    "#Create a big query client\n",
    "bq = bigquery.Client()"
   ]
  },
  {
   "cell_type": "code",
   "execution_count": 7,
   "metadata": {},
   "outputs": [],
   "source": [
    "#Set a query with the following parameters\n",
    "query = \"\"\"\n",
    "SELECT\n",
    "  weight_pounds,\n",
    "  is_male,\n",
    "  gestation_weeks,\n",
    "  mother_age,\n",
    "  plurality,\n",
    "  mother_race\n",
    "FROM\n",
    "  `bigquery-public-data.samples.natality`\n",
    "WHERE\n",
    "  weight_pounds IS NOT NULL\n",
    "  AND is_male = true\n",
    "  AND gestation_weeks = 38\n",
    "  AND mother_age = 28\n",
    "  AND mother_race = 1\n",
    "  AND plurality = 1\n",
    "  AND RAND() < 0.01\n",
    "\"\"\""
   ]
  },
  {
   "cell_type": "code",
   "execution_count": 8,
   "metadata": {},
   "outputs": [
    {
     "data": {
      "text/html": [
       "<div>\n",
       "<style scoped>\n",
       "    .dataframe tbody tr th:only-of-type {\n",
       "        vertical-align: middle;\n",
       "    }\n",
       "\n",
       "    .dataframe tbody tr th {\n",
       "        vertical-align: top;\n",
       "    }\n",
       "\n",
       "    .dataframe thead th {\n",
       "        text-align: right;\n",
       "    }\n",
       "</style>\n",
       "<table border=\"1\" class=\"dataframe\">\n",
       "  <thead>\n",
       "    <tr style=\"text-align: right;\">\n",
       "      <th></th>\n",
       "      <th>weight_pounds</th>\n",
       "      <th>is_male</th>\n",
       "      <th>gestation_weeks</th>\n",
       "      <th>mother_age</th>\n",
       "      <th>plurality</th>\n",
       "      <th>mother_race</th>\n",
       "    </tr>\n",
       "  </thead>\n",
       "  <tbody>\n",
       "    <tr>\n",
       "      <th>0</th>\n",
       "      <td>6.102395</td>\n",
       "      <td>True</td>\n",
       "      <td>38</td>\n",
       "      <td>28</td>\n",
       "      <td>1</td>\n",
       "      <td>1</td>\n",
       "    </tr>\n",
       "    <tr>\n",
       "      <th>1</th>\n",
       "      <td>6.876218</td>\n",
       "      <td>True</td>\n",
       "      <td>38</td>\n",
       "      <td>28</td>\n",
       "      <td>1</td>\n",
       "      <td>1</td>\n",
       "    </tr>\n",
       "    <tr>\n",
       "      <th>2</th>\n",
       "      <td>7.749249</td>\n",
       "      <td>True</td>\n",
       "      <td>38</td>\n",
       "      <td>28</td>\n",
       "      <td>1</td>\n",
       "      <td>1</td>\n",
       "    </tr>\n",
       "    <tr>\n",
       "      <th>3</th>\n",
       "      <td>7.374463</td>\n",
       "      <td>True</td>\n",
       "      <td>38</td>\n",
       "      <td>28</td>\n",
       "      <td>1</td>\n",
       "      <td>1</td>\n",
       "    </tr>\n",
       "    <tr>\n",
       "      <th>4</th>\n",
       "      <td>9.186662</td>\n",
       "      <td>True</td>\n",
       "      <td>38</td>\n",
       "      <td>28</td>\n",
       "      <td>1</td>\n",
       "      <td>1</td>\n",
       "    </tr>\n",
       "  </tbody>\n",
       "</table>\n",
       "</div>"
      ],
      "text/plain": [
       "   weight_pounds  is_male  gestation_weeks  mother_age  plurality  mother_race\n",
       "0       6.102395     True               38          28          1            1\n",
       "1       6.876218     True               38          28          1            1\n",
       "2       7.749249     True               38          28          1            1\n",
       "3       7.374463     True               38          28          1            1\n",
       "4       9.186662     True               38          28          1            1"
      ]
     },
     "execution_count": 8,
     "metadata": {},
     "output_type": "execute_result"
    }
   ],
   "source": [
    "#Convert the query to a dataframe so that other modules can use it\n",
    "df = bq.query(query).to_dataframe()\n",
    "df.head()"
   ]
  },
  {
   "cell_type": "code",
   "execution_count": 9,
   "metadata": {},
   "outputs": [
    {
     "data": {
      "image/png": "[encoded data removed]",
      "text/plain": [
       "<Figure size 432x288 with 1 Axes>"
      ]
     },
     "metadata": {
      "needs_background": "light"
     },
     "output_type": "display_data"
    }
   ],
   "source": [
    "#Plot the baby weight to see the distribution\n",
    "fig = sns.histplot(df[[\"weight_pounds\"]])\n",
    "fig.set_title(\"Distribution of baby weight\")\n",
    "fig.set_xlabel(\"weight_pounds\")\n",
    "fig.figure.savefig(\"weight_distrib.png\")"
   ]
  },
  {
   "cell_type": "code",
   "execution_count": 10,
   "metadata": {},
   "outputs": [],
   "source": [
    "# Task1 0.5 points\n",
    "# Add code here to calculate and print the average weight_pounds for this cross section**\n"
   ]
  },
  {
   "cell_type": "code",
   "execution_count": 11,
   "metadata": {},
   "outputs": [],
   "source": [
    "# Task2 0.5 points\n",
    "# Add code here to calculate and print the standard deviation for weight_pounds for this cross section**\n"
   ]
  },
  {
   "cell_type": "code",
   "execution_count": 5,
   "metadata": {},
   "outputs": [],
   "source": [
    "# Task 3 0.5 points\n",
    "# Add code here to do the following\n",
    "# Create a new query for for the same parameters as in Cell 7, expect the plurality is equal to 2 (Twins). \n",
    "# Calculate and print the average weight_pounds for this cross section \n",
    "# Calculate and print the standard deviation for this cross section. \n"
   ]
  },
  {
   "cell_type": "markdown",
   "metadata": {},
   "source": [
    "## Comparing categorical label and regression\n",
    "\n",
    "Since baby weight is a positive real value, this is intuitively a regression problem. However, we can train the model as a multi-class classification by bucketizing the output label. At inference time, the model then predicts a collection of probabilities corresponding to these potential outputs. \n",
    "\n",
    "Let's do both and see how they compare. "
   ]
  },
  {
   "cell_type": "code",
   "execution_count": 11,
   "metadata": {},
   "outputs": [
    {
     "name": "stdout",
     "output_type": "stream",
     "text": [
      "INFO:tensorflow:Enabling eager execution\n",
      "INFO:tensorflow:Enabling v2 tensorshape\n",
      "INFO:tensorflow:Enabling resource variables\n",
      "INFO:tensorflow:Enabling tensor equality\n",
      "INFO:tensorflow:Enabling control flow v2\n"
     ]
    }
   ],
   "source": [
    "import pandas as pd\n",
    "import tensorflow as tf\n",
    "\n",
    "\n",
    "from tensorflow.keras.utils import to_categorical\n",
    "from tensorflow import keras\n",
    "from tensorflow import feature_column as fc\n",
    "from tensorflow.keras import layers, models, Model\n"
   ]
  },
  {
   "cell_type": "code",
   "execution_count": 12,
   "metadata": {},
   "outputs": [],
   "source": [
    "#Read the provided dataset. Please specify the correct path. On my computer, the file was in a folder\n",
    "# data\n",
    "df = pd.read_csv(\"./data/babyweight_train.csv\")"
   ]
  },
  {
   "cell_type": "markdown",
   "metadata": {},
   "source": [
    "We'll use the same features for both models. But we need to create a categorical weight label for the classification model. "
   ]
  },
  {
   "cell_type": "code",
   "execution_count": 13,
   "metadata": {},
   "outputs": [],
   "source": [
    "# prepare inputs\n",
    "df.is_male = df.is_male.astype(str)\n",
    "\n",
    "df.mother_race.fillna(0, inplace = True)\n",
    "df.mother_race = df.mother_race.astype(str)\n",
    "\n",
    "# create categorical label\n",
    "def categorical_weight(weight_pounds):\n",
    "    if weight_pounds < 3.31:\n",
    "        return 0\n",
    "    elif weight_pounds >= 3.31 and weight_pounds < 5.5:\n",
    "        return 1\n",
    "    elif weight_pounds >= 5.5 and weight_pounds < 8.8:\n",
    "        return 2\n",
    "    else:\n",
    "        return 3\n",
    "\n",
    "df[\"weight_category\"] = df.weight_pounds.apply(lambda x: categorical_weight(x))"
   ]
  },
  {
   "cell_type": "code",
   "execution_count": 14,
   "metadata": {},
   "outputs": [
    {
     "data": {
      "text/html": [
       "<div>\n",
       "<style scoped>\n",
       "    .dataframe tbody tr th:only-of-type {\n",
       "        vertical-align: middle;\n",
       "    }\n",
       "\n",
       "    .dataframe tbody tr th {\n",
       "        vertical-align: top;\n",
       "    }\n",
       "\n",
       "    .dataframe thead th {\n",
       "        text-align: right;\n",
       "    }\n",
       "</style>\n",
       "<table border=\"1\" class=\"dataframe\">\n",
       "  <thead>\n",
       "    <tr style=\"text-align: right;\">\n",
       "      <th></th>\n",
       "      <th>weight_pounds</th>\n",
       "      <th>is_male</th>\n",
       "      <th>mother_age</th>\n",
       "      <th>plurality</th>\n",
       "      <th>gestation_weeks</th>\n",
       "      <th>mother_race</th>\n",
       "      <th>weight_category</th>\n",
       "    </tr>\n",
       "  </thead>\n",
       "  <tbody>\n",
       "    <tr>\n",
       "      <th>0</th>\n",
       "      <td>7.749249</td>\n",
       "      <td>False</td>\n",
       "      <td>12</td>\n",
       "      <td>Single(1)</td>\n",
       "      <td>40</td>\n",
       "      <td>1.0</td>\n",
       "      <td>2</td>\n",
       "    </tr>\n",
       "    <tr>\n",
       "      <th>1</th>\n",
       "      <td>7.561856</td>\n",
       "      <td>True</td>\n",
       "      <td>12</td>\n",
       "      <td>Single(1)</td>\n",
       "      <td>40</td>\n",
       "      <td>2.0</td>\n",
       "      <td>2</td>\n",
       "    </tr>\n",
       "    <tr>\n",
       "      <th>2</th>\n",
       "      <td>7.187070</td>\n",
       "      <td>False</td>\n",
       "      <td>12</td>\n",
       "      <td>Single(1)</td>\n",
       "      <td>34</td>\n",
       "      <td>3.0</td>\n",
       "      <td>2</td>\n",
       "    </tr>\n",
       "    <tr>\n",
       "      <th>3</th>\n",
       "      <td>6.375769</td>\n",
       "      <td>True</td>\n",
       "      <td>12</td>\n",
       "      <td>Single(1)</td>\n",
       "      <td>36</td>\n",
       "      <td>2.0</td>\n",
       "      <td>2</td>\n",
       "    </tr>\n",
       "    <tr>\n",
       "      <th>4</th>\n",
       "      <td>7.936641</td>\n",
       "      <td>False</td>\n",
       "      <td>12</td>\n",
       "      <td>Single(1)</td>\n",
       "      <td>35</td>\n",
       "      <td>0.0</td>\n",
       "      <td>2</td>\n",
       "    </tr>\n",
       "  </tbody>\n",
       "</table>\n",
       "</div>"
      ],
      "text/plain": [
       "   weight_pounds is_male  mother_age  plurality  gestation_weeks mother_race  \\\n",
       "0       7.749249   False          12  Single(1)               40         1.0   \n",
       "1       7.561856    True          12  Single(1)               40         2.0   \n",
       "2       7.187070   False          12  Single(1)               34         3.0   \n",
       "3       6.375769    True          12  Single(1)               36         2.0   \n",
       "4       7.936641   False          12  Single(1)               35         0.0   \n",
       "\n",
       "   weight_category  \n",
       "0                2  \n",
       "1                2  \n",
       "2                2  \n",
       "3                2  \n",
       "4                2  "
      ]
     },
     "execution_count": 14,
     "metadata": {},
     "output_type": "execute_result"
    }
   ],
   "source": [
    "df.head()"
   ]
  },
  {
   "cell_type": "code",
   "execution_count": 15,
   "metadata": {},
   "outputs": [],
   "source": [
    "def encode_labels(classes):\n",
    "    one_hots = to_categorical(classes)\n",
    "    return one_hots\n",
    "\n",
    "FEATURES = ['is_male', 'mother_age', 'plurality', 'gestation_weeks', 'mother_race']\n",
    "\n",
    "LABEL_CLS = ['weight_category']\n",
    "LABEL_REG = ['weight_pounds']\n",
    "\n",
    "N_TRAIN = int(df.shape[0] * 0.80)\n",
    "\n",
    "X_train = df[FEATURES][:N_TRAIN]\n",
    "X_valid = df[FEATURES][N_TRAIN:]\n",
    "\n",
    "y_train_cls = encode_labels(df[LABEL_CLS][:N_TRAIN])\n",
    "y_train_reg = df[LABEL_REG][:N_TRAIN]\n",
    "\n",
    "y_valid_cls = encode_labels(df[LABEL_CLS][N_TRAIN:])\n",
    "y_valid_reg = df[LABEL_REG][N_TRAIN:]"
   ]
  },
  {
   "cell_type": "markdown",
   "metadata": {},
   "source": [
    "Create `tf.data` datsets for both classification and regression."
   ]
  },
  {
   "cell_type": "code",
   "execution_count": 16,
   "metadata": {},
   "outputs": [],
   "source": [
    "# train/validation dataset for classification model\n",
    "cls_train_data = tf.data.Dataset.from_tensor_slices((X_train.to_dict('list'), y_train_cls))\n",
    "cls_valid_data = tf.data.Dataset.from_tensor_slices((X_valid.to_dict('list'), y_valid_cls))\n",
    "\n",
    "# train/validation dataset for regression model\n",
    "reg_train_data = tf.data.Dataset.from_tensor_slices((X_train.to_dict('list'), y_train_reg.values))\n",
    "reg_valid_data = tf.data.Dataset.from_tensor_slices((X_valid.to_dict('list'), y_valid_reg.values))"
   ]
  },
  {
   "cell_type": "code",
   "execution_count": 17,
   "metadata": {},
   "outputs": [
    {
     "name": "stdout",
     "output_type": "stream",
     "text": [
      "({'is_male': <tf.Tensor: shape=(), dtype=string, numpy=b'False'>, 'mother_age': <tf.Tensor: shape=(), dtype=int32, numpy=12>, 'plurality': <tf.Tensor: shape=(), dtype=string, numpy=b'Single(1)'>, 'gestation_weeks': <tf.Tensor: shape=(), dtype=int32, numpy=40>, 'mother_race': <tf.Tensor: shape=(), dtype=string, numpy=b'1.0'>}, <tf.Tensor: shape=(4,), dtype=float32, numpy=array([0., 0., 1., 0.], dtype=float32)>)\n",
      "\n",
      "({'is_male': <tf.Tensor: shape=(), dtype=string, numpy=b'False'>, 'mother_age': <tf.Tensor: shape=(), dtype=int32, numpy=12>, 'plurality': <tf.Tensor: shape=(), dtype=string, numpy=b'Single(1)'>, 'gestation_weeks': <tf.Tensor: shape=(), dtype=int32, numpy=40>, 'mother_race': <tf.Tensor: shape=(), dtype=string, numpy=b'1.0'>}, <tf.Tensor: shape=(1,), dtype=float64, numpy=array([7.74924851])>)\n",
      "\n"
     ]
    }
   ],
   "source": [
    "# Examine the two datasets. Notice the different label values.\n",
    "for data_type in [cls_train_data, reg_train_data]:\n",
    "    for dict_slice in data_type.take(1):\n",
    "        print(\"{}\\n\".format(dict_slice))"
   ]
  },
  {
   "cell_type": "code",
   "execution_count": null,
   "metadata": {},
   "outputs": [],
   "source": [
    "# create feature columns to handle categorical variables\n",
    "numeric_columns = [fc.numeric_column(\"mother_age\"),\n",
    "                  fc.numeric_column(\"gestation_weeks\")]\n",
    "\n",
    "CATEGORIES = {\n",
    "    'plurality': list(df.plurality.unique()),\n",
    "    'is_male' : list(df.is_male.unique()),\n",
    "    'mother_race': list(df.mother_race.unique())\n",
    "}\n",
    "\n",
    "categorical_columns = []\n",
    "for feature, vocab in CATEGORIES.items():\n",
    "    cat_col = fc.categorical_column_with_vocabulary_list(\n",
    "        key=feature, vocabulary_list=vocab, dtype=tf.string)\n",
    "    categorical_columns.append(fc.indicator_column(cat_col))"
   ]
  },
  {
   "cell_type": "code",
   "execution_count": null,
   "metadata": {},
   "outputs": [],
   "source": [
    "# create Inputs for model\n",
    "inputs = {colname: tf.keras.layers.Input(\n",
    "    name=colname, shape=(), dtype=\"float32\")\n",
    "    for colname in [\"mother_age\", \"gestation_weeks\"]}\n",
    "inputs.update({colname: tf.keras.layers.Input(\n",
    "    name=colname, shape=(), dtype=tf.string)\n",
    "    for colname in [\"plurality\", \"is_male\", \"mother_race\"]})\n",
    "\n",
    "# build DenseFeatures for the model\n",
    "dnn_inputs = layers.DenseFeatures(categorical_columns+numeric_columns)(inputs)\n",
    "\n",
    "# create hidden layers\n",
    "h1 = layers.Dense(20, activation=\"relu\")(dnn_inputs)\n",
    "h2 = layers.Dense(10, activation=\"relu\")(h1)\n",
    "\n",
    "# create classification model\n",
    "cls_output = layers.Dense(4, activation=\"softmax\")(h2)\n",
    "cls_model = tf.keras.models.Model(inputs=inputs, outputs=cls_output)\n",
    "cls_model.compile(optimizer='adam',\n",
    "              loss=tf.keras.losses.CategoricalCrossentropy(),\n",
    "              metrics=['accuracy'])   \n",
    "\n",
    "\n",
    "# create regression model\n",
    "reg_output = layers.Dense(1, activation=\"relu\")(h2)\n",
    "reg_model = tf.keras.models.Model(inputs=inputs, outputs=reg_output)\n",
    "reg_model.compile(optimizer='adam',\n",
    "              loss=tf.keras.losses.MeanSquaredError(),\n",
    "              metrics=['mse'])   "
   ]
  },
  {
   "cell_type": "markdown",
   "metadata": {},
   "source": [
    "First, train the classification model and examine the validation accuracy. "
   ]
  },
  {
   "cell_type": "code",
   "execution_count": null,
   "metadata": {},
   "outputs": [],
   "source": [
    "# Task 4 0.5 points\n",
    "# Add code here to do the following\n",
    "# Train the classification model created above, with training data batch size of 50 and 1 epoch. \n",
    "# Calculate and print your results for validation accuracy\n",
    "\n",
    "#HINT: model.evaluate(valid_data.batch(X_valid_dataset.shape[0])) returns the loss,accuracy as a tuple for a regression model\n",
    "#change variable names\n",
    "\n",
    "# Note, you can experiment with different batch sizes and epochs for your learning. But for submission, only print\n",
    "# results for batch size of 50 and 1 epoch\n"
   ]
  },
  {
   "cell_type": "markdown",
   "metadata": {},
   "source": [
    "Next, we'll train the regression model and examine the validation MSE"
   ]
  },
  {
   "cell_type": "code",
   "execution_count": null,
   "metadata": {},
   "outputs": [],
   "source": [
    "# Task 5 0.5 points\n",
    "# Add code here to do the following\n",
    "# Train the regression model created above, with training data batch size of 50 and 1 epoch. \n",
    "# Calculate and print your results for validation MSE\n",
    "\n",
    "#HINT: model.evaluate(valid_data.batch(X_valid_dataset.shape[0])) returns the loss,MSE as a tuple for a regression model\n",
    "#change variable names\n",
    "\n",
    "# Note, you can experiment with different batch sizes and epochs for your learning. But for submission, only print\n",
    "# results for batch size of 50 and 1 epoch\n"
   ]
  },
  {
   "cell_type": "markdown",
   "metadata": {},
   "source": [
    "The regression model gives a single numeric prediction of baby weight. "
   ]
  },
  {
   "cell_type": "code",
   "execution_count": null,
   "metadata": {},
   "outputs": [],
   "source": [
    "# Task 6 0.5 points\n",
    "# Add code here to do the following\n",
    "# Calculate the prediction for the regression model using built-in predict function\n",
    "# Calculate the prediction for the following input value\n",
    "    # is_male = true\n",
    "    # gestation_weeks = 38\n",
    "    # mother_age = 28\n",
    "    # mother_race = 1\n",
    "    # plurality = 1\n",
    "\n",
    "\n",
    "# HINT: The code below shows how to make an input to the model, run it, and get the output\n",
    "    # How to make an input to the model\n",
    "    # preds = model.predict( x={\n",
    "    #     \"column_name_float32\": tf.convert_to_tensor([float32 (e.g. 38)]),\n",
    "    #     \"column_name_string\": tf.convert_to_tensor([string boolean (e.g. \"True\")]),\n",
    "    # }, steps=1).squeeze();\n",
    "    # \n",
    "# the 'x=...' part inside of model.predict function\n",
    "\n",
    "# Now looking at the dtypes for each of the columns in a cell above (code has been copied below, so \n",
    "# that you don't have to find it)\n",
    "\n",
    "    # inputs = {colname: tf.keras.layers.Input(\n",
    "    #     name=colname, shape=(), dtype=\"float32\")\n",
    "    #     for colname in [\"mother_age\", \"gestation_weeks\"]}\n",
    "    # inputs.update({colname: tf.keras.layers.Input(\n",
    "    #     name=colname, shape=(), dtype=tf.string)\n",
    "    #     for colname in [\"plurality\", \"is_male\", \"mother_race\"]})\n",
    "\n",
    "# Figure out how to make a correct input for the model, with the correct types\n",
    "\n",
    "# Print the prediction value\n",
    "#Does this value make sense to you based on the query you did at the beginning of this tutorial?\n"
   ]
  },
  {
   "cell_type": "markdown",
   "metadata": {},
   "source": [
    "The classification model predicts a probability for each bucket of values. "
   ]
  },
  {
   "cell_type": "code",
   "execution_count": null,
   "metadata": {},
   "outputs": [],
   "source": [
    "# Task 7 0.5 points\n",
    "\n",
    "# Add code here to do the following\n",
    "\n",
    "# Calculate the prediction for the classification model using built-in predict function\n",
    "# Calculate the prediction for the following input value\n",
    "    # is_male = true\n",
    "    # gestation_weeks = 38\n",
    "    # mother_age = 28\n",
    "    # mother_race = 1\n",
    "    # plurality = 1\n",
    "\n",
    "\n",
    "# HINT: The code below shows how to make an input to the model, run it, and get the output\n",
    "    # How to make an input to the model\n",
    "    # preds = model.predict( x={\n",
    "    #     \"column_name_float32\": tf.convert_to_tensor([float32 (e.g. 38)]),\n",
    "    #     \"column_name_string\": tf.convert_to_tensor([String (e.g. \"True\")]),\n",
    "    #     ...\n",
    "    # }, steps=1).squeeze();\n",
    "    # \n",
    "# the 'x=...' part inside of model.predict function\n",
    "\n",
    "# Now looking at the dtypes for each of the columns in a cell above (code has been copied below, so \n",
    "# that you don't have to find it)\n",
    "\n",
    "    # inputs = {colname: tf.keras.layers.Input(\n",
    "    #     name=colname, shape=(), dtype=\"float32\")\n",
    "    #     for colname in [\"mother_age\", \"gestation_weeks\"]}\n",
    "    # inputs.update({colname: tf.keras.layers.Input(\n",
    "    #     name=colname, shape=(), dtype=tf.string)\n",
    "    #     for colname in [\"plurality\", \"is_male\", \"mother_race\"]})\n",
    "\n",
    "# Figure out how to make a correct input for the model, with the correct types, based on the first code snippet\n",
    "# using your knowledge of what type each column takes\n",
    "\n",
    "# Print the prediction value\n",
    "# Note that it returns an array of size 4. What do each of these values mean\n",
    "# HINT: Think about probabilities\n",
    "\n",
    "#Do these values make sense based on the query from the beginning of the tutorial?\n",
    "\n",
    "\n",
    "\n"
   ]
  },
  {
   "cell_type": "code",
   "execution_count": null,
   "metadata": {},
   "outputs": [],
   "source": [
    "# Task 8 0.5 points\n",
    "# Add code here to do the following\n",
    "# Plot a histogram of the predictions calculated for the classifcation model\n",
    "# Your histogram must have 4 bars for each of the 4 categories that you created above\n",
    "    \n",
    "    # For your convenience, the code from above copied has been copied here \n",
    "        # def categorical_weight(weight_pounds):\n",
    "        #     if weight_pounds < 3.31: #\"category 1\"\n",
    "        #         return 0\n",
    "        #     elif weight_pounds >= 3.31 and weight_pounds < 5.5: #\"category 2\"\n",
    "        #         return 1\n",
    "        #     elif weight_pounds >= 5.5 and weight_pounds < 8.8: #\"category 3\"\n",
    "        #         return 2\n",
    "        #     else:\n",
    "        #         return 3 #\"category 4\"\n",
    "\n",
    "# (although some may be so short that they are not visible) \n",
    "\n",
    "# #ex code to make a bar graph, that meets our standards\n",
    "# import matplotlib.pyplot as plt\n",
    "# %matplotlib inline\n",
    "# xvals = [1,2,3,4]\n",
    "# yvals = [5,2,4,1]\n",
    "# plt.bar(xvals, yvals, alpha=.5)\n",
    "# plt.xticks(xvals, (\"column1\", \"column2\", \"column3\", \"column4\"))\n",
    "# plt.show()\n",
    "\n",
    "# Does the graph look similar to the histogram from the the beginning of this tutorial?\n",
    "\n"
   ]
  }
 ],
 "metadata": {
  "kernelspec": {
   "display_name": "Python 3",
   "language": "python",
   "name": "python3"
  },
  "language_info": {
   "codemirror_mode": {
    "name": "ipython",
    "version": 3
   },
   "file_extension": ".py",
   "mimetype": "text/x-python",
   "name": "python",
   "nbconvert_exporter": "python",
   "pygments_lexer": "ipython3",
   "version": "3.8.5"
  }
 },
 "nbformat": 4,
 "nbformat_minor": 4
}
